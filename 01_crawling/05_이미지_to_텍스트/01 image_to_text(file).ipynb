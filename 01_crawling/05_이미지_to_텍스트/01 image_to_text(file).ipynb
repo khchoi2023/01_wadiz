{
 "cells": [
  {
   "cell_type": "code",
   "execution_count": null,
   "id": "7d7a4d27",
   "metadata": {},
   "outputs": [],
   "source": [
    "# pip install google-cloud-vision\n",
    "\n",
    "#로컬의 이미지 텍스트 추출\n",
    "\n",
    "import io\n",
    "import os\n",
    "from google.cloud import vision\n",
    "\n",
    "# 개인 api 키(개인적으로 발급 받아야 됨)\n",
    "# 키 발급 받는 방법\n",
    "# https://ssungkang.tistory.com/entry/Google-Vision-API-%EB%A5%BC-%EC%82%AC%EC%9A%A9%ED%95%9C-%EA%B8%80%EC%9E%90-%EC%9D%B8%EC%8B%9D\n",
    "os.environ['GOOGLE_APPLICATION_CREDENTIALS'] = '123456789.json'    # API키 json 파일\n",
    "\n",
    "client = vision.ImageAnnotatorClient()\n",
    "file_name = r\"C:\\images.png\"\n",
    "\n",
    "\n",
    "with io.open(file_name, 'rb') as image_file:\n",
    "    content = image_file.read()\n",
    "\n",
    "print(content)\n",
    "image = vision.Image(content=content)\n",
    "\n",
    "# Performs label detection on the image file\n",
    "response = client.label_detection(image=image)\n",
    "labels = response.label_annotations\n",
    "\n",
    "response = client.text_detection(image=image)\n",
    "text_annotations = response.text_annotations\n",
    "text = text_annotations[0].description\n",
    "print(text)"
   ]
  }
 ],
 "metadata": {
  "kernelspec": {
   "display_name": "Python 3 (ipykernel)",
   "language": "python",
   "name": "python3"
  },
  "language_info": {
   "codemirror_mode": {
    "name": "ipython",
    "version": 3
   },
   "file_extension": ".py",
   "mimetype": "text/x-python",
   "name": "python",
   "nbconvert_exporter": "python",
   "pygments_lexer": "ipython3",
   "version": "3.10.13"
  }
 },
 "nbformat": 4,
 "nbformat_minor": 5
}
