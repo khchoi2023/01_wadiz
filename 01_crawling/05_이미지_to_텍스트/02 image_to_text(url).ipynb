{
 "cells": [
  {
   "cell_type": "code",
   "execution_count": null,
   "id": "138ef2f3",
   "metadata": {},
   "outputs": [],
   "source": [
    "# pip install google-cloud-vision\n",
    "\n",
    "#이미지 url 이용해서 텍스트 추출\n",
    "import os\n",
    "import requests\n",
    "from google.cloud import vision\n",
    "\n",
    "\n",
    "# 개인 api 키(개인적으로 발급 받아야 됨, json)\n",
    "os.environ['GOOGLE_APPLICATION_CREDENTIALS'] = '123456789.json'    # API키 json 파일\n",
    "\n",
    "# 이미지 URL\n",
    "url = \"https://cdn.wadiz.kr/ft/images/green001/2023/0320/20230320114831708_8.jpg/wadiz/resize/1000/format/jpg/quality/80/\"\n",
    "\n",
    "# 이미지 요청\n",
    "response = requests.get(url)\n",
    "\n",
    "# 이미지 저장\n",
    "with open('image.gif', 'wb') as f:\n",
    "    f.write(response.content)\n",
    "\n",
    "# Vision API 클라이언트 생성\n",
    "client = vision.ImageAnnotatorClient()\n",
    "\n",
    "# 이미지 파일 읽기\n",
    "with open('image.gif', 'rb') as f:\n",
    "    image_data = f.read()\n",
    "\n",
    "# Vision API에 전달할 이미지 생성\n",
    "image = vision.Image(content=image_data)\n",
    "\n",
    "# 이미지에서 텍스트 감지\n",
    "response = client.text_detection(image=image)\n",
    "text_annotations = response.text_annotations\n",
    "text = text_annotations[0].description\n",
    "print(text)"
   ]
  }
 ],
 "metadata": {
  "kernelspec": {
   "display_name": "Python 3 (ipykernel)",
   "language": "python",
   "name": "python3"
  },
  "language_info": {
   "codemirror_mode": {
    "name": "ipython",
    "version": 3
   },
   "file_extension": ".py",
   "mimetype": "text/x-python",
   "name": "python",
   "nbconvert_exporter": "python",
   "pygments_lexer": "ipython3",
   "version": "3.10.13"
  }
 },
 "nbformat": 4,
 "nbformat_minor": 5
}
